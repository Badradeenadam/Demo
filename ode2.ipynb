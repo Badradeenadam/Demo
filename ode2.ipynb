{
 "cells": [
  {
   "cell_type": "code",
   "execution_count": 1,
   "id": "982928d5",
   "metadata": {},
   "outputs": [
    {
     "data": {
      "text/plain": [
       "<matplotlib.pyplot._IonContext at 0x7f69ab5bae30>"
      ]
     },
     "execution_count": 1,
     "metadata": {},
     "output_type": "execute_result"
    }
   ],
   "source": [
    "import numpy as np\n",
    "import matplotlib.pyplot as plt\n",
    "\n",
    "plt.ion()"
   ]
  },
  {
   "cell_type": "code",
   "execution_count": 2,
   "id": "f07d5906",
   "metadata": {},
   "outputs": [],
   "source": [
    "def solveODE2(fSpec,gSpec,x0,y0,tmax,dt):\n",
    "       f = eval(\"lambda x,y,t:\" + fSpec)\n",
    "       g = eval(\"lambda x,y,t:\" + gSpec)\n",
    "       t,x,y = 0.0,x0,y0\n",
    "       xk = [x0]\n",
    "       yk = [y0]\n",
    "       tk = [0.0]\n",
    "       while t < tmax - dt/2 :\n",
    "           x,y = x+dt*f(x,y,t),y+dt*g(x,y,t)\n",
    "           t += dt\n",
    "           tk.append(t)\n",
    "           xk.append(x)\n",
    "           yk.append(y)\n",
    "       plt.plot(xk,yk,'r.',markersize=4)\n",
    "       ax = plt.gca()\n",
    "       ax.set_aspect('equal')\n",
    "       plt.show()\n",
    "       plt.pause(0.01)\n",
    "\n",
    "       print(\"Number of steps  = \",len(tk)-1)\n",
    "       print(\"Final value of t = \",tk[-1])\n",
    "       print(\"Final value of x = \",xk[-1])\n",
    "       print(\"Final value of y = \",yk[-1])"
   ]
  },
  {
   "cell_type": "code",
   "execution_count": 3,
   "id": "3eb932f6",
   "metadata": {},
   "outputs": [
    {
     "name": "stdout",
     "output_type": "stream",
     "text": [
      "\n",
      " Enter ODE to solve by typing solveODE2(\"f\",\"g\",x0,y0,tmax,dt) where\n",
      " \"f\" and \"g\" are strings giving the functions f(x,y,t) and g(x,y,t)\n",
      " in the system of ODEs dx/dt = f(x,y,t), dy/dt = g(x,y,t)\n"
     ]
    }
   ],
   "source": [
    "print(\"\\n\\\n",
    " Enter ODE to solve by typing solveODE2(\\\"f\\\",\\\"g\\\",x0,y0,tmax,dt) where\\n\\\n",
    " \\\"f\\\" and \\\"g\\\" are strings giving the functions f(x,y,t) and g(x,y,t)\\n\\\n",
    " in the system of ODEs dx/dt = f(x,y,t), dy/dt = g(x,y,t)\")\n"
   ]
  }
 ],
 "metadata": {
  "kernelspec": {
   "display_name": "Python 3 (ipykernel)",
   "language": "python",
   "name": "python3"
  },
  "language_info": {
   "codemirror_mode": {
    "name": "ipython",
    "version": 3
   },
   "file_extension": ".py",
   "mimetype": "text/x-python",
   "name": "python",
   "nbconvert_exporter": "python",
   "pygments_lexer": "ipython3",
   "version": "3.10.12"
  }
 },
 "nbformat": 4,
 "nbformat_minor": 5
}
